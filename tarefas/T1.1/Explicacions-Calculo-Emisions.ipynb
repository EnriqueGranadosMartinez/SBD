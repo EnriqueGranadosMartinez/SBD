{
 "cells": [
  {
   "cell_type": "markdown",
   "id": "b226bbb4-c4cd-4d87-a529-b136933a5cf7",
   "metadata": {},
   "source": [
    "# Explicacions-Calculo-Emisions."
   ]
  },
  {
   "cell_type": "markdown",
   "id": "a3f16aa7-d4da-4c50-a5ff-987a71d4a6c9",
   "metadata": {},
   "source": [
    "Explicacions-Calculo-Emisions."
   ]
  },
  {
   "cell_type": "code",
   "execution_count": 1,
   "id": "a378d625-6c25-4a16-ab54-c80423cd13a0",
   "metadata": {},
   "outputs": [],
   "source": [
    "#funcion para cálculo de las emisiones\n",
    "def calculo_emisiones(km,dias,semanas,emision_km):\n",
    "    cantidad_de_emisiones = km * dias * semanas * emision_km\n",
    "    return cantidad_de_emisiones\n",
    "    "
   ]
  },
  {
   "cell_type": "code",
   "execution_count": 2,
   "id": "9144d89b-0b8d-40db-9e14-83f7185ba98e",
   "metadata": {},
   "outputs": [
    {
     "name": "stdout",
     "output_type": "stream",
     "text": [
      "O teu consumo é: 121000 gC02\n"
     ]
    }
   ],
   "source": [
    "# Cálculo de emisións\n",
    "\n",
    "# Variables\n",
    "KMS_DIARIOS = 10\n",
    "DIAS_LABORAIS_SEMANAIS = 10\n",
    "SEMANAS = 10\n",
    "\n",
    "# Cada medio de transporte ten o seu índice de emisións medio (gramos por km)\n",
    "# https://www.movilidad-idae.es/destacados/emisiones-de-co2-por-modos-de-transporte-motorizado\n",
    "EMISION_X_KM = 121\n",
    "\n",
    "cantidade_de_emisions = KMS_DIARIOS * DIAS_LABORAIS_SEMANAIS * SEMANAS * EMISION_X_KM\n",
    "print('O teu consumo é:', cantidade_de_emisions, 'gC02')"
   ]
  },
  {
   "cell_type": "code",
   "execution_count": 3,
   "id": "c708c2ee-455a-4851-b6c6-4638307cf17f",
   "metadata": {},
   "outputs": [
    {
     "name": "stdout",
     "output_type": "stream",
     "text": [
      "Las emisiones del coche son 2904000 gC02\n"
     ]
    }
   ],
   "source": [
    "kms_diarios_coche = 100\n",
    "dias_laborales_semanales_coche = 5\n",
    "semanas_coche = 48\n",
    "emision_km_coche = 121\n",
    "vehiculo_coche = \"coche\"\n",
    "print(f\"Las emisiones del {vehiculo_coche} son {calculo_emisiones(kms_diarios_coche,dias_laborales_semanales_coche,semanas_coche, emision_km_coche)} gC02\")"
   ]
  },
  {
   "cell_type": "code",
   "execution_count": 4,
   "id": "8b1d3be1-b713-4b1b-b0b5-aa5d08df1be4",
   "metadata": {},
   "outputs": [
    {
     "name": "stdout",
     "output_type": "stream",
     "text": [
      "Las emisiones de la moto 127200 gC02\n"
     ]
    }
   ],
   "source": [
    "kms_diarios_moto = 20\n",
    "dias_laborales_semanales_moto = 3\n",
    "semanas_moto = 40\n",
    "emision_km_moto = 53\n",
    "vehiculo_moto = \"moto\"\n",
    "print(f\"Las emisiones de la {vehiculo_moto} {calculo_emisiones(kms_diarios_moto,dias_laborales_semanales_moto,semanas_moto,emision_km_moto)} gC02\")"
   ]
  },
  {
   "cell_type": "code",
   "execution_count": 5,
   "id": "ac01588a-870a-43d4-a4af-aed3fd8d3b41",
   "metadata": {},
   "outputs": [
    {
     "name": "stdout",
     "output_type": "stream",
     "text": [
      "Las emisiones del coche de Enrique 871200 gC02\n"
     ]
    }
   ],
   "source": [
    "kms_diarios_kike = 60\n",
    "dias_laborales_semanales_kike = 5\n",
    "semanas_kike = 24\n",
    "emision_km_kike = 121\n",
    "vehiculo_kike = \"coche\"\n",
    "print(f\"Las emisiones del {vehiculo_kike} de Enrique {calculo_emisiones(kms_diarios_kike,dias_laborales_semanales_kike,semanas_kike, emision_km_kike)} gC02\")"
   ]
  },
  {
   "cell_type": "code",
   "execution_count": 6,
   "id": "cce6eca8-e1d8-4088-a7ba-e0f772b090db",
   "metadata": {},
   "outputs": [
    {
     "name": "stdout",
     "output_type": "stream",
     "text": [
      "Si la persona del coche cambia al vehículo moto ahorra 2776800 gC02\n",
      "Si la persona del coche cambia al vehículo moto ahorra 744000 gC02\n"
     ]
    }
   ],
   "source": [
    "#ahorro por cambio de vehículo\n",
    "calculo_coche = calculo_emisiones(kms_diarios_coche,dias_laborales_semanales_coche,semanas_coche, emision_km_coche)\n",
    "calculo_moto = calculo_emisiones(kms_diarios_moto,dias_laborales_semanales_moto,semanas_moto,emision_km_moto)\n",
    "calculo_kike = calculo_emisiones(kms_diarios_kike,dias_laborales_semanales_kike,semanas_kike, emision_km_kike)\n",
    "\n",
    "print(f\"Si la persona del {vehiculo_coche} cambia al vehículo {vehiculo_moto} ahorra {calculo_coche - calculo_moto} gC02\")\n",
    "print(f\"Si la persona del {vehiculo_kike} cambia al vehículo {vehiculo_moto} ahorra {calculo_kike - calculo_moto} gC02\")"
   ]
  }
 ],
 "metadata": {
  "kernelspec": {
   "display_name": "Python 3 (ipykernel)",
   "language": "python",
   "name": "python3"
  },
  "language_info": {
   "codemirror_mode": {
    "name": "ipython",
    "version": 3
   },
   "file_extension": ".py",
   "mimetype": "text/x-python",
   "name": "python",
   "nbconvert_exporter": "python",
   "pygments_lexer": "ipython3",
   "version": "3.11.8"
  }
 },
 "nbformat": 4,
 "nbformat_minor": 5
}
