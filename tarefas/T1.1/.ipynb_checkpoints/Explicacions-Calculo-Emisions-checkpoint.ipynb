{
 "cells": [
  {
   "cell_type": "markdown",
   "id": "b226bbb4-c4cd-4d87-a529-b136933a5cf7",
   "metadata": {},
   "source": [
    "# Explicacions-Calculo-Emisions."
   ]
  },
  {
   "cell_type": "markdown",
   "id": "a3f16aa7-d4da-4c50-a5ff-987a71d4a6c9",
   "metadata": {},
   "source": [
    "Explicacions-Calculo-Emisions."
   ]
  },
  {
   "cell_type": "code",
   "execution_count": 28,
   "id": "a378d625-6c25-4a16-ab54-c80423cd13a0",
   "metadata": {},
   "outputs": [],
   "source": [
    "#funcion para cálculo de las emisiones\n",
    "def calculo_emisiones(km,dias,semanas):\n",
    "    cantidad_de_emisiones = km * dias * semanas\n",
    "    return cantidad_de_emisiones\n",
    "    "
   ]
  },
  {
   "cell_type": "code",
   "execution_count": 29,
   "id": "9144d89b-0b8d-40db-9e14-83f7185ba98e",
   "metadata": {},
   "outputs": [
    {
     "name": "stdout",
     "output_type": "stream",
     "text": [
      "O teu consumo é: 0 gC02\n"
     ]
    }
   ],
   "source": [
    "# Cálculo de emisións\n",
    "\n",
    "# Variables\n",
    "KMS_DIARIOS = 0\n",
    "DIAS_LABORAIS_SEMANAIS = 0\n",
    "SEMANAS = 0\n",
    "\n",
    "# Cada medio de transporte ten o seu índice de emisións medio (gramos por km)\n",
    "# https://www.movilidad-idae.es/destacados/emisiones-de-co2-por-modos-de-transporte-motorizado\n",
    "EMISION_X_KM = 121\n",
    "\n",
    "cantidade_de_emisions = KMS_DIARIOS * DIAS_LABORAIS_SEMANAIS * SEMANAS * EMISION_X_KM\n",
    "print('O teu consumo é:', cantidade_de_emisions, 'gC02')"
   ]
  },
  {
   "cell_type": "code",
   "execution_count": 30,
   "id": "c708c2ee-455a-4851-b6c6-4638307cf17f",
   "metadata": {},
   "outputs": [
    {
     "name": "stdout",
     "output_type": "stream",
     "text": [
      "Las emisiones del coche 24000\n"
     ]
    }
   ],
   "source": [
    "kms_diarios = 100\n",
    "dias_laborales_semanales = 5\n",
    "semanas = 48\n",
    "vehiculo = \"coche\"\n",
    "print(f\"Las emisiones del {vehiculo} {calculo_emisiones(kms_diarios,dias_laborales_semanales,semanas)}\")"
   ]
  },
  {
   "cell_type": "code",
   "execution_count": 31,
   "id": "8b1d3be1-b713-4b1b-b0b5-aa5d08df1be4",
   "metadata": {},
   "outputs": [
    {
     "name": "stdout",
     "output_type": "stream",
     "text": [
      "Las emisiones de la moto 2400\n"
     ]
    }
   ],
   "source": [
    "kms_diarios = 20\n",
    "dias_laborales_semanales = 3\n",
    "semanas = 40\n",
    "vehiculo = \"moto\"\n",
    "print(f\"Las emisiones de la {vehiculo} {calculo_emisiones(kms_diarios,dias_laborales_semanales,semanas)}\")"
   ]
  },
  {
   "cell_type": "code",
   "execution_count": 32,
   "id": "ac01588a-870a-43d4-a4af-aed3fd8d3b41",
   "metadata": {},
   "outputs": [
    {
     "name": "stdout",
     "output_type": "stream",
     "text": [
      "Las emisiones del coche 24000\n"
     ]
    }
   ],
   "source": [
    "kms_diarios = 100\n",
    "dias_laborales_semanales = 5\n",
    "semanas = 48\n",
    "vehiculo = \"coche\"\n",
    "print(f\"Las emisiones del {vehiculo} {calculo_emisiones(kms_diarios,dias_laborales_semanales,semanas)}\")"
   ]
  }
 ],
 "metadata": {
  "kernelspec": {
   "display_name": "Python 3 (ipykernel)",
   "language": "python",
   "name": "python3"
  },
  "language_info": {
   "codemirror_mode": {
    "name": "ipython",
    "version": 3
   },
   "file_extension": ".py",
   "mimetype": "text/x-python",
   "name": "python",
   "nbconvert_exporter": "python",
   "pygments_lexer": "ipython3",
   "version": "3.11.8"
  }
 },
 "nbformat": 4,
 "nbformat_minor": 5
}
